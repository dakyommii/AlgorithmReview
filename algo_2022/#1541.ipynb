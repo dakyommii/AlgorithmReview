{
 "cells": [
  {
   "cell_type": "code",
   "execution_count": 38,
   "id": "d079f643",
   "metadata": {},
   "outputs": [
    {
     "name": "stdout",
     "output_type": "stream",
     "text": [
      "['10+20', '10+20', '10']\n"
     ]
    }
   ],
   "source": [
    "minus = expression.split('-')"
   ]
  },
  {
   "cell_type": "code",
   "execution_count": 39,
   "id": "b45a2a17",
   "metadata": {},
   "outputs": [
    {
     "name": "stdout",
     "output_type": "stream",
     "text": [
      "-10\n"
     ]
    }
   ],
   "source": [
    "for i in range(len(minus)):\n",
    "    plus = minus[i].split('+')\n",
    "    cnt = 0\n",
    "    for j in plus:\n",
    "        cnt += int(j)\n",
    "    if i == 0:\n",
    "        temp = cnt\n",
    "    else: temp = temp-cnt\n",
    "\n",
    "print(temp)"
   ]
  }
 ],
 "metadata": {
  "kernelspec": {
   "display_name": "Python 3",
   "language": "python",
   "name": "python3"
  },
  "language_info": {
   "codemirror_mode": {
    "name": "ipython",
    "version": 3
   },
   "file_extension": ".py",
   "mimetype": "text/x-python",
   "name": "python",
   "nbconvert_exporter": "python",
   "pygments_lexer": "ipython3",
   "version": "3.8.8"
  }
 },
 "nbformat": 4,
 "nbformat_minor": 5
}
